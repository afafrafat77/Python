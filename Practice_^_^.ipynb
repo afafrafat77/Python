{
  "cells": [
    {
      "cell_type": "markdown",
      "metadata": {
        "id": "view-in-github",
        "colab_type": "text"
      },
      "source": [
        "<a href=\"https://colab.research.google.com/github/afafrafat77/Python/blob/main/Practice_%5E_%5E.ipynb\" target=\"_parent\"><img src=\"https://colab.research.google.com/assets/colab-badge.svg\" alt=\"Open In Colab\"/></a>"
      ]
    },
    {
      "cell_type": "markdown",
      "metadata": {
        "id": "g3HrkUTBiykj"
      },
      "source": [
        "# Practice    \n",
        "# Enjoy^_^"
      ]
    },
    {
      "cell_type": "markdown",
      "metadata": {
        "id": "BajXWVisiykv"
      },
      "source": [
        "# 1. Python Flow Control"
      ]
    },
    {
      "cell_type": "markdown",
      "metadata": {
        "id": "nqYdiMsWiykx"
      },
      "source": [
        "## 1. Write a Python program to find those numbers which are divisible by 7 and multiples of 5, between 1500 and 2700 (both included).\n",
        "\n",
        "\n",
        "\n"
      ]
    },
    {
      "cell_type": "code",
      "execution_count": 46,
      "metadata": {
        "id": "DCroxhGxiykz"
      },
      "outputs": [],
      "source": [
        "def find_numbers_divisible_by_7_and_5():\n",
        "    for i in range(1500, 2701):\n",
        "        if i % 7 == 0 and i % 5 == 0:\n",
        "            print(i, end=\" \")"
      ]
    },
    {
      "cell_type": "markdown",
      "metadata": {
        "id": "njucM3ieiyk3"
      },
      "source": [
        "## 2. Write a Python program to guess a number between 1 and 9.\n",
        "Note : User is prompted to enter a guess. If the user guesses wrong then the prompt appears again until the guess is correct, on successful guess, user will get a \"Well guessed!\" message, and the program will exit."
      ]
    },
    {
      "cell_type": "code",
      "execution_count": 47,
      "metadata": {
        "colab": {
          "base_uri": "https://localhost:8080/"
        },
        "id": "VQD8Dcsbiyk5",
        "outputId": "cbf8a132-9885-40ba-f876-739cfb133fc5"
      },
      "outputs": [
        {
          "output_type": "stream",
          "name": "stdout",
          "text": [
            "Enter a number: 5\n",
            "Try Again 5\n",
            "Enter a number: 7\n",
            "Try Again 7\n",
            "Enter a number: 2\n",
            "Try Again 2\n",
            "Enter a number: 1\n",
            "Congratultions ^^ 1\n"
          ]
        }
      ],
      "source": [
        "import random\n",
        "\n",
        "def guess_the_number():\n",
        "    num = random.randint(1, 9)\n",
        "    x = 0\n",
        "    while x != num:\n",
        "        x = int(input(\"Enter a number: \"))\n",
        "        if x != num:\n",
        "            print(f\"Try Again {x}\")\n",
        "    print(f\"Congratultions ^^ {num}\")\n",
        "\n",
        "guess_the_number()"
      ]
    },
    {
      "cell_type": "markdown",
      "metadata": {
        "id": "3Kt-GZ2liyk-"
      },
      "source": [
        "## 3. Write a Python program that prints all the numbers from 0 to 6 except 3 and 6.\n",
        "Note : Use 'continue' statement.\n",
        "Expected Output : 0 1 2 4 5\n"
      ]
    },
    {
      "cell_type": "code",
      "source": [
        "def print_numbers():\n",
        "    for x in range(7):\n",
        "        if x % 3 == 0 and x != 0:\n",
        "            continue\n",
        "        print(x, end=\" \")\n",
        "print_numbers()"
      ],
      "metadata": {
        "colab": {
          "base_uri": "https://localhost:8080/"
        },
        "id": "XBmy-_pZsnGF",
        "outputId": "4bf8d03c-a3e9-410a-bb61-03bb006e1254"
      },
      "execution_count": 48,
      "outputs": [
        {
          "output_type": "stream",
          "name": "stdout",
          "text": [
            "0 1 2 4 5 "
          ]
        }
      ]
    },
    {
      "cell_type": "markdown",
      "metadata": {
        "id": "QoNzP0DuiylA"
      },
      "source": [
        "## 4. Write a Python program to construct the following pattern, using a nested for loop.\n",
        "```\n",
        "*\n",
        "* *\n",
        "* * *\n",
        "* * * *\n",
        "* * * * *\n",
        "* * * *\n",
        "* * *\n",
        "* *\n",
        "*\n",
        "```"
      ]
    },
    {
      "cell_type": "code",
      "execution_count": 49,
      "metadata": {
        "colab": {
          "base_uri": "https://localhost:8080/"
        },
        "id": "r_5Wj9g8iylC",
        "outputId": "270310bb-59e0-4a42-b3c4-710a32294592"
      },
      "outputs": [
        {
          "output_type": "stream",
          "name": "stdout",
          "text": [
            "\n",
            "* \n",
            "* * \n",
            "* * * \n",
            "* * * * \n",
            "* * * * * \n",
            "* * * * * * \n",
            "* * * * * \n",
            "* * * * \n",
            "* * * \n",
            "* * \n",
            "* \n",
            "\n"
          ]
        }
      ],
      "source": [
        "def print_star(n):\n",
        "    for i in range(n + 1):\n",
        "        for j in range(i):\n",
        "            print(\"*\", end=\" \")\n",
        "        print()\n",
        "    for i in range(n):\n",
        "        for j in range(n - 1 - i):\n",
        "            print(\"*\", end=\" \")\n",
        "        print()\n",
        "print_star(6)"
      ]
    },
    {
      "cell_type": "code",
      "execution_count": 50,
      "metadata": {
        "colab": {
          "base_uri": "https://localhost:8080/"
        },
        "id": "73UgGXs3iylE",
        "outputId": "85b41d9a-0633-4dc1-fc64-f8fb76703e85"
      },
      "outputs": [
        {
          "output_type": "stream",
          "name": "stdout",
          "text": [
            "       \n",
            "      * \n",
            "     * * \n",
            "    * * * \n",
            "   * * * * \n",
            "  * * * * * \n",
            " * * * * * * \n",
            "* * * * * * * \n",
            " * * * * * * \n",
            "  * * * * * \n",
            "   * * * * \n",
            "    * * * \n",
            "     * * \n",
            "      * \n"
          ]
        }
      ],
      "source": [
        "def print_diamond(n):\n",
        "    for i in range(n + 1):\n",
        "        for j in range(n - i):\n",
        "            print(\"\", end=\" \")\n",
        "        for j in range(i):\n",
        "            print(\"*\", end=\" \")\n",
        "        print()\n",
        "    for i in range(n - 1, 0, -1):\n",
        "        for j in range(n - i):\n",
        "            print(\"\", end=\" \")\n",
        "        for j in range(i):\n",
        "            print(\"*\", end=\" \")\n",
        "        print()\n",
        "print_diamond(7)"
      ]
    },
    {
      "cell_type": "markdown",
      "metadata": {
        "id": "h-ixf8G4iylF"
      },
      "source": [
        "## 5. Write a Python program that accepts a word from the user and reverses it.\n",
        "\n"
      ]
    },
    {
      "cell_type": "code",
      "source": [
        "def reverse_string(word):\n",
        "    reverse = \"\"\n",
        "    for c in word:\n",
        "        reverse = c + reverse\n",
        "    print(reverse)\n",
        "\n",
        "# Call the function to reverse a string:\n",
        "word = input()\n",
        "reverse_string(word)"
      ],
      "metadata": {
        "colab": {
          "base_uri": "https://localhost:8080/"
        },
        "id": "A_7-VMVRvytS",
        "outputId": "d84b6e4a-52c8-42f1-9646-f57bb687e50f"
      },
      "execution_count": 51,
      "outputs": [
        {
          "output_type": "stream",
          "name": "stdout",
          "text": [
            "Afaf Rafat\n",
            "tafaR fafA\n"
          ]
        }
      ]
    },
    {
      "cell_type": "markdown",
      "metadata": {
        "id": "hYt6eXbIiylG"
      },
      "source": [
        "## 6. Write a Python program to count the number of even and odd numbers in a series of numbers\n",
        "Sample numbers : numbers = (1, 2, 3, 4, 5, 6, 7, 8, 9)\n",
        "\n",
        "Expected Output :\n",
        "\n",
        "Number of even numbers : 4\n",
        "\n",
        "Number of odd numbers : 5"
      ]
    },
    {
      "cell_type": "code",
      "execution_count": 52,
      "metadata": {
        "colab": {
          "base_uri": "https://localhost:8080/"
        },
        "id": "t3sHKFiKiylI",
        "outputId": "99497584-de47-4f62-c3ce-8314dc5835d6"
      },
      "outputs": [
        {
          "output_type": "stream",
          "name": "stdout",
          "text": [
            "Number of even numbers : 4\n",
            "Number of odd numbers : 5\n"
          ]
        }
      ],
      "source": [
        "def count_even_odd(numbers):\n",
        "    even = 0\n",
        "    odd = 0\n",
        "    for i in numbers:\n",
        "        if i % 2:\n",
        "            odd += 1\n",
        "        else:\n",
        "            even += 1\n",
        "    print(f\"Number of even numbers : {even}\")\n",
        "    print(f\"Number of odd numbers : {odd}\")\n",
        "\n",
        "numbers = [1, 2, 3, 4, 5, 6, 7, 8, 9]\n",
        "count_even_odd(numbers)"
      ]
    },
    {
      "cell_type": "markdown",
      "metadata": {
        "id": "vDg8oXgXiylJ"
      },
      "source": [
        "## 7. Write a Python program to print the the first alphabet pattern 'A-Z' in your name .\n",
        "for example  Expected Output:\n",
        "\n",
        "\n",
        "```\n",
        "  ***                                                                   \n",
        " *   *                                                                  \n",
        " *   *                                                                  \n",
        " *****                                                                  \n",
        " *   *                                                                  \n",
        " *   *                                                                  \n",
        " *   *\n",
        "```"
      ]
    },
    {
      "cell_type": "code",
      "execution_count": 53,
      "metadata": {
        "colab": {
          "base_uri": "https://localhost:8080/"
        },
        "id": "xew3DTvniylK",
        "outputId": "aba6cf5d-ffc9-4b06-8118-be86bb9cd807"
      },
      "outputs": [
        {
          "output_type": "stream",
          "name": "stdout",
          "text": [
            " *** \n",
            "*   *\n",
            "*   *\n",
            "*****\n",
            "*   *\n",
            "*   *\n",
            "*   *\n"
          ]
        }
      ],
      "source": [
        "for i in range(1,8):\n",
        "    if(i==1):\n",
        "        print(\" *** \")\n",
        "    elif i==4:\n",
        "        print(\"*****\")\n",
        "    else:\n",
        "        print(\"*   *\")"
      ]
    },
    {
      "cell_type": "markdown",
      "metadata": {
        "id": "8-33o_YniylL"
      },
      "source": [
        "## 8.  Write a Python program to construct the following pattern, using a nested loop number.\n",
        "Expected Output:\n",
        "\n",
        "\n",
        "``\n",
        "1\n",
        "22\n",
        "333\n",
        "4444\n",
        "55555\n",
        "666666\n",
        "7777777\n",
        "88888888\n",
        "999999999\n",
        "``"
      ]
    },
    {
      "cell_type": "code",
      "execution_count": 54,
      "metadata": {
        "colab": {
          "base_uri": "https://localhost:8080/"
        },
        "id": "CkUYoXoCiylM",
        "outputId": "b8a580b2-ac91-4197-a623-44677b953a6f"
      },
      "outputs": [
        {
          "output_type": "stream",
          "name": "stdout",
          "text": [
            "1 22 333 4444 55555 666666 7777777 88888888 999999999 "
          ]
        }
      ],
      "source": [
        "def print_number_pattern(n):\n",
        "    for i in range(1, n + 1):\n",
        "        for j in range(i):\n",
        "            print(i, end=\"\")\n",
        "        print(\"\", end=\" \")\n",
        "\n",
        "# Example usage:\n",
        "print_number_pattern(9)  # Prints the pattern with 9 lines"
      ]
    },
    {
      "cell_type": "markdown",
      "metadata": {
        "id": "A8ccmz5TiylM"
      },
      "source": [
        "## 9. Write a Python program to create the multiplication table (from 1 to 10) of a number.\n",
        "Expected Output:\n",
        "\n",
        "Input a number: 6                                                       \n",
        "6 x 1 = 6                                                               \n",
        "6 x 2 = 12                                                              \n",
        "6 x 3 = 18                                                              \n",
        "6 x 4 = 24                                                              \n",
        "6 x 5 = 30                                                              \n",
        "6 x 6 = 36                                                              \n",
        "6 x 7 = 42                                                              \n",
        "6 x 8 = 48                                                              \n",
        "6 x 9 = 54                                                              \n",
        "6 x 10 = 60\n"
      ]
    },
    {
      "cell_type": "code",
      "execution_count": 55,
      "metadata": {
        "colab": {
          "base_uri": "https://localhost:8080/"
        },
        "id": "VSivC82OiylN",
        "outputId": "72a834c2-cc0f-4370-ad9b-3d9992ebb22b"
      },
      "outputs": [
        {
          "output_type": "stream",
          "name": "stdout",
          "text": [
            "7\n",
            "7 x 1 = 7\n",
            "7 x 2 = 14\n",
            "7 x 3 = 21\n",
            "7 x 4 = 28\n",
            "7 x 5 = 35\n",
            "7 x 6 = 42\n",
            "7 x 7 = 49\n",
            "7 x 8 = 56\n",
            "7 x 9 = 63\n",
            "7 x 10 = 70\n"
          ]
        }
      ],
      "source": [
        "def multiplication_table(n):\n",
        "    for j in range(1, 11):\n",
        "        print(f\"{n} x {j} = {n * j}\")\n",
        "\n",
        "n = int(input())\n",
        "multiplication_table(n)"
      ]
    },
    {
      "cell_type": "markdown",
      "metadata": {
        "id": "n39oBNe8iylO"
      },
      "source": [
        "## 10. Write a Python program to calculate the sum and average of n integer numbers (input from the user). Input 0 to finish."
      ]
    },
    {
      "cell_type": "code",
      "execution_count": 56,
      "metadata": {
        "colab": {
          "base_uri": "https://localhost:8080/"
        },
        "id": "2E7AsL5iiylP",
        "outputId": "807c11ab-7b09-4aef-f219-74457c0233c0"
      },
      "outputs": [
        {
          "output_type": "stream",
          "name": "stdout",
          "text": [
            "5\n",
            "7\n",
            "2\n",
            "12\n",
            "9\n",
            "0\n",
            "Sum of numbers: 35\n",
            "Average of numbers: 7.00\n"
          ]
        }
      ],
      "source": [
        "def calculate_sum_and_average():\n",
        "    sum = 0\n",
        "    cnt = 0\n",
        "    while True:\n",
        "        num = int(input())\n",
        "        if num == 0:\n",
        "            break\n",
        "        sum += num\n",
        "        cnt += 1\n",
        "    print(f\"Sum of numbers: {sum}\")\n",
        "    print(f\"Average of numbers: {sum / cnt:.2f}\")\n",
        "calculate_sum_and_average()"
      ]
    },
    {
      "cell_type": "markdown",
      "metadata": {
        "id": "jh_345rxiylP"
      },
      "source": [
        "# 11-Python Program to Print the Fibonacci sequence\n",
        "\n",
        "The Fibonacci numbers are the numbers in the following integer sequence. 0, 1, 1, 2, 3, 5, 8, 13, 21, 34, 55, 89, 144, …….. In mathematical terms, the sequence Fn of Fibonacci numbers is defined by the recurrence relation.\n"
      ]
    },
    {
      "cell_type": "code",
      "source": [
        "def print_fibonacci_sequence(terms):\n",
        "    a = 0\n",
        "    b = 1\n",
        "    print(a, end=\" \")\n",
        "    print(b, end=\" \")\n",
        "    for i in range(terms):\n",
        "        print(a + b, end=\" \")\n",
        "        temp = a\n",
        "        a = b\n",
        "        b = temp + b\n",
        "print_fibonacci_sequence(50)"
      ],
      "metadata": {
        "colab": {
          "base_uri": "https://localhost:8080/"
        },
        "id": "jkJn2WjbxZtY",
        "outputId": "8d531b50-bd97-44ed-bd75-78d0d42c88ba"
      },
      "execution_count": 57,
      "outputs": [
        {
          "output_type": "stream",
          "name": "stdout",
          "text": [
            "0 1 1 2 3 5 8 13 21 34 55 89 144 233 377 610 987 1597 2584 4181 6765 10946 17711 28657 46368 75025 121393 196418 317811 514229 832040 1346269 2178309 3524578 5702887 9227465 14930352 24157817 39088169 63245986 102334155 165580141 267914296 433494437 701408733 1134903170 1836311903 2971215073 4807526976 7778742049 12586269025 20365011074 "
          ]
        }
      ]
    },
    {
      "cell_type": "markdown",
      "metadata": {
        "id": "qUf0OnqJiylQ"
      },
      "source": [
        "# Finding the Maximum Value in a List"
      ]
    },
    {
      "cell_type": "code",
      "execution_count": 58,
      "metadata": {
        "colab": {
          "base_uri": "https://localhost:8080/"
        },
        "id": "VhM5c9FuiylR",
        "outputId": "be213e9c-996b-46ed-b82e-ce6c9faaa583"
      },
      "outputs": [
        {
          "output_type": "stream",
          "name": "stdout",
          "text": [
            "10\n"
          ]
        }
      ],
      "source": [
        "def find_maximum(numbers):\n",
        "    mx = numbers[0]\n",
        "    for i in numbers:\n",
        "        if i > mx:\n",
        "            mx = i\n",
        "    return mx\n",
        "numbers = [7, 5, 2, 10, 1]\n",
        "print(find_maximum(numbers))\n"
      ]
    },
    {
      "cell_type": "markdown",
      "metadata": {
        "id": "LApa5l_7iylR"
      },
      "source": [
        "# Counting Vowels in a String"
      ]
    },
    {
      "cell_type": "code",
      "execution_count": 59,
      "metadata": {
        "colab": {
          "base_uri": "https://localhost:8080/"
        },
        "id": "2yArQbapiylS",
        "outputId": "97957594-b701-4ad6-9047-040cf43df9db"
      },
      "outputs": [
        {
          "output_type": "stream",
          "name": "stdout",
          "text": [
            "7\n"
          ]
        }
      ],
      "source": [
        "def count_vowels(string):\n",
        "    vowels = \"AEIOUaeiou\"\n",
        "    cnt = 0\n",
        "    for c in string:\n",
        "        for char in vowels:\n",
        "            if c == char:\n",
        "                cnt += 1\n",
        "    return cnt\n",
        "string = \"Afaf Rafat Ibrahim\"\n",
        "print(count_vowels(string))\n"
      ]
    },
    {
      "cell_type": "markdown",
      "metadata": {
        "id": "-mihyJDciylS"
      },
      "source": [
        "# Finding Prime Numbers within a Range"
      ]
    },
    {
      "cell_type": "code",
      "execution_count": 60,
      "metadata": {
        "colab": {
          "base_uri": "https://localhost:8080/"
        },
        "id": "8TeJo6v9iylT",
        "outputId": "e5bd9ad0-1011-42be-9494-6da7e655604f"
      },
      "outputs": [
        {
          "output_type": "stream",
          "name": "stdout",
          "text": [
            "2 3 5 7 11 13 17 19 23 29 31 37 41 43 47 53 59 61 67 71 73 79 83 89 97 "
          ]
        }
      ],
      "source": [
        "def print_prime_numbers(limit):\n",
        "    for num in range(2, limit):\n",
        "        flag = True\n",
        "        for i in range(2, num):\n",
        "            if num % i == 0:\n",
        "                flag = False\n",
        "                break\n",
        "        if flag:\n",
        "            print(num, end=\" \")\n",
        "print_prime_numbers(100)"
      ]
    },
    {
      "cell_type": "markdown",
      "metadata": {
        "id": "EjTaZ7S4iylT"
      },
      "source": [
        "# A Program that Simulating a Basic ATM Withdrawal"
      ]
    },
    {
      "cell_type": "code",
      "execution_count": 61,
      "metadata": {
        "colab": {
          "base_uri": "https://localhost:8080/"
        },
        "id": "eiKISTNMiylU",
        "outputId": "d65cb6a6-6422-45f4-bd6e-08d49af7b7c3"
      },
      "outputs": [
        {
          "output_type": "stream",
          "name": "stdout",
          "text": [
            "Enter initial balance: 2500\n",
            "Enter amount to withdraw (0 to exit): 1000\n",
            "Succeeded! Your current balance is 1500.0.\n",
            "Enter amount to withdraw (0 to exit): 3000\n",
            "Insufficient balance. Try again.\n",
            "Enter amount to withdraw (0 to exit): 200\n",
            "Succeeded! Your current balance is 1300.0.\n",
            "Enter amount to withdraw (0 to exit): 150\n",
            "Succeeded! Your current balance is 1150.0.\n",
            "Enter amount to withdraw (0 to exit): 1150\n",
            "Succeeded! Your current balance is 0.0.\n",
            "Your balance is now 0.\n"
          ]
        }
      ],
      "source": [
        "def ATM(initial_balance):\n",
        "    balance = initial_balance\n",
        "\n",
        "    while balance > 0:\n",
        "        need = float(input(\"Enter amount to withdraw (0 to exit): \"))\n",
        "\n",
        "        if need == 0:\n",
        "            print(\"Good bye!\")\n",
        "            break\n",
        "\n",
        "        if need > balance:\n",
        "            print(\"Insufficient balance. Try again.\")\n",
        "        else:\n",
        "            balance -= need\n",
        "            print(f\"Succeeded! Your current balance is {balance}.\")\n",
        "\n",
        "        if balance == 0:\n",
        "            print(\"Your balance is now 0.\")\n",
        "            break\n",
        "balance = float(input(\"Enter initial balance: \"))\n",
        "ATM(balance)"
      ]
    },
    {
      "cell_type": "markdown",
      "metadata": {
        "id": "A3opXoROiylU"
      },
      "source": [
        "# Finding Common Elements in Two Lists"
      ]
    },
    {
      "cell_type": "code",
      "execution_count": 62,
      "metadata": {
        "colab": {
          "base_uri": "https://localhost:8080/"
        },
        "id": "m6jMF8OniylU",
        "outputId": "8353d24d-cfe8-4368-a318-4ebaace824ed"
      },
      "outputs": [
        {
          "output_type": "stream",
          "name": "stdout",
          "text": [
            "4 5 "
          ]
        }
      ],
      "source": [
        "def find_common_elements(list1, list2):\n",
        "    common = []\n",
        "    for i in list1:\n",
        "        if i in list2:\n",
        "            common.append(i)\n",
        "    for i in common:\n",
        "        print(i, end=\" \")\n",
        "\n",
        "list1 = [1, 2, 3, 4, 5]\n",
        "list2 = [4, 5, 6, 7, 8]\n",
        "find_common_elements(list1, list2)"
      ]
    },
    {
      "cell_type": "markdown",
      "metadata": {
        "id": "E8SJ7vyhiylV"
      },
      "source": [
        "# Calculating Factorial of a Number"
      ]
    },
    {
      "cell_type": "code",
      "source": [
        "def factorial(n):\n",
        "    fact = 1\n",
        "    for i in range(1, n + 1):\n",
        "        fact *= i\n",
        "    return fact\n",
        "n = 5\n",
        "print(f\"Factorial of {n}: {factorial(n)}\")"
      ],
      "metadata": {
        "colab": {
          "base_uri": "https://localhost:8080/"
        },
        "id": "VxEwM79ryhTl",
        "outputId": "bb1f1059-a8dd-40f6-a940-ce8cc6c711ba"
      },
      "execution_count": 63,
      "outputs": [
        {
          "output_type": "stream",
          "name": "stdout",
          "text": [
            "Factorial of 5: 120\n"
          ]
        }
      ]
    },
    {
      "cell_type": "markdown",
      "metadata": {
        "id": "sMChkUquiylV"
      },
      "source": []
    },
    {
      "cell_type": "markdown",
      "metadata": {
        "id": "tzrDD9LjiylV"
      },
      "source": [
        "# Validating User Input with While Loop"
      ]
    },
    {
      "cell_type": "code",
      "source": [
        "def validate():\n",
        "    while True:\n",
        "        num = int(input(\"Enter a number greater than 10: \"))\n",
        "        if num > 10:\n",
        "            print(\"Valid input!\")\n",
        "            return num\n",
        "        else:\n",
        "            print(\"The number must be greater than 10. Please try again.\")\n",
        "\n",
        "# Example usage:\n",
        "num = validate()\n",
        "print(\"You entered:\", num)"
      ],
      "metadata": {
        "colab": {
          "base_uri": "https://localhost:8080/"
        },
        "id": "SGTp3BAkyus0",
        "outputId": "c96a6094-e851-4c68-f7ac-dd1208d386ce"
      },
      "execution_count": 64,
      "outputs": [
        {
          "output_type": "stream",
          "name": "stdout",
          "text": [
            "Enter a number greater than 10: 5\n",
            "The number must be greater than 10. Please try again.\n",
            "Enter a number greater than 10: 8\n",
            "The number must be greater than 10. Please try again.\n",
            "Enter a number greater than 10: 10\n",
            "The number must be greater than 10. Please try again.\n",
            "Enter a number greater than 10: 12\n",
            "Valid input!\n",
            "You entered: 12\n"
          ]
        }
      ]
    },
    {
      "cell_type": "markdown",
      "metadata": {
        "id": "7ovS6z64iylW"
      },
      "source": []
    },
    {
      "cell_type": "markdown",
      "metadata": {
        "id": "28sXafp-iylW"
      },
      "source": [
        "# Finding the Sum of Digits of a Number"
      ]
    },
    {
      "cell_type": "code",
      "source": [
        "def digit_sum(number):\n",
        "    sum = 0\n",
        "    while number > 0:\n",
        "        sum+= (number % 10)\n",
        "        number //= 10\n",
        "    return sum\n",
        "\n",
        "n = 13456\n",
        "sum =digit_sum(n)\n",
        "print(sum)"
      ],
      "metadata": {
        "colab": {
          "base_uri": "https://localhost:8080/"
        },
        "id": "O2n4hAYUy6Sn",
        "outputId": "9e56d426-189c-4228-86a3-a8a3bfd2d776"
      },
      "execution_count": 65,
      "outputs": [
        {
          "output_type": "stream",
          "name": "stdout",
          "text": [
            "19\n"
          ]
        }
      ]
    },
    {
      "cell_type": "markdown",
      "metadata": {
        "id": "EcAYd3RviylW"
      },
      "source": []
    },
    {
      "cell_type": "markdown",
      "metadata": {
        "id": "k4vNExMfiylX"
      },
      "source": [
        "# Checking for Palindrome Strings"
      ]
    },
    {
      "cell_type": "code",
      "source": [
        "def is_palindrome(s):\n",
        "    flag = True\n",
        "    for i in range(int(len(s) / 2) + 1):\n",
        "        if s[i] != s[len(s) - 1 - i]:\n",
        "            flag = False\n",
        "            break\n",
        "    if flag:\n",
        "        print(\"The string is palindrome\")\n",
        "    else:\n",
        "        print(\"The string is not palindrome\")\n",
        "\n",
        "s = \"ABCDCBA\"\n",
        "is_palindrome(s)\n",
        "\n",
        "s = \"AFAF\"\n",
        "is_palindrome(s)"
      ],
      "metadata": {
        "colab": {
          "base_uri": "https://localhost:8080/"
        },
        "id": "bAH-eLejzO9R",
        "outputId": "b7d67660-b877-4421-fa91-f10ed2148ade"
      },
      "execution_count": 66,
      "outputs": [
        {
          "output_type": "stream",
          "name": "stdout",
          "text": [
            "The string is palindrome\n",
            "The string is not palindrome\n"
          ]
        }
      ]
    },
    {
      "cell_type": "markdown",
      "metadata": {
        "id": "CaGt7jfviylm"
      },
      "source": []
    },
    {
      "cell_type": "markdown",
      "metadata": {
        "id": "QPYSJO0iiyln"
      },
      "source": [
        "# Creating a Dictionary from Two Lists"
      ]
    },
    {
      "cell_type": "code",
      "source": [
        "def create_dictionary(keys, values):\n",
        "    dictionary = {}\n",
        "    for i in range(len(keys)):\n",
        "        dictionary[keys[i]] = values[i]\n",
        "    return dictionary\n",
        "\n",
        "keys = ['Name', 'Age', 'Address']\n",
        "values = [\"Afaf\", 22, \"Cairo\"]\n",
        "dic = create_dictionary(keys, values)\n",
        "print(dic)"
      ],
      "metadata": {
        "colab": {
          "base_uri": "https://localhost:8080/"
        },
        "id": "_3KHhVWNzdgK",
        "outputId": "c9dffab4-fcde-4d85-a7bb-95bfcda233ae"
      },
      "execution_count": 67,
      "outputs": [
        {
          "output_type": "stream",
          "name": "stdout",
          "text": [
            "{'Name': 'Afaf', 'Age': 22, 'Address': 'Cairo'}\n"
          ]
        }
      ]
    },
    {
      "cell_type": "markdown",
      "metadata": {
        "id": "8EdRhajuiyln"
      },
      "source": []
    },
    {
      "cell_type": "markdown",
      "metadata": {
        "id": "aQjz_S2Uiylo"
      },
      "source": [
        "# Simulating a Simple Password Check"
      ]
    },
    {
      "cell_type": "markdown",
      "metadata": {
        "id": "VzkamFiPiylo"
      },
      "source": []
    },
    {
      "cell_type": "code",
      "source": [
        "def verify_password(my_password):\n",
        "    input_password = \"\"\n",
        "\n",
        "    while input_password != my_password:\n",
        "        input_password = input(\"Enter password: \")\n",
        "        if input_password != my_password:\n",
        "            print(\"Incorrect password. Please try again.\")\n",
        "\n",
        "    print(\"Correct Password\")\n",
        "\n",
        "my_password = \"15678531\"\n",
        "verify_password(my_password)"
      ],
      "metadata": {
        "colab": {
          "base_uri": "https://localhost:8080/"
        },
        "id": "Cot2_A4lzmjn",
        "outputId": "215a9c8d-5bad-4afe-b5c0-4ac32bd6defd"
      },
      "execution_count": 68,
      "outputs": [
        {
          "output_type": "stream",
          "name": "stdout",
          "text": [
            "Enter password: 865312\n",
            "Incorrect password. Please try again.\n",
            "Enter password: 15678531\n",
            "Correct Password\n"
          ]
        }
      ]
    },
    {
      "cell_type": "markdown",
      "metadata": {
        "id": "GCxmHboAiylp"
      },
      "source": [
        "# Generating a Multiplication Table for a Given Number"
      ]
    },
    {
      "cell_type": "code",
      "source": [
        "def print_multiplication_table(n):\n",
        "    for j in range(1, 13):\n",
        "        print(f\"{n} x {j} = {n * j}\")\n",
        "\n",
        "n = int(input(\"Enter a number: \"))\n",
        "print_multiplication_table(n)"
      ],
      "metadata": {
        "colab": {
          "base_uri": "https://localhost:8080/"
        },
        "id": "CFxqsS__zv9f",
        "outputId": "4b67412d-7115-45c2-fe60-1723a1b9efac"
      },
      "execution_count": 69,
      "outputs": [
        {
          "output_type": "stream",
          "name": "stdout",
          "text": [
            "Enter a number: 12\n",
            "12 x 1 = 12\n",
            "12 x 2 = 24\n",
            "12 x 3 = 36\n",
            "12 x 4 = 48\n",
            "12 x 5 = 60\n",
            "12 x 6 = 72\n",
            "12 x 7 = 84\n",
            "12 x 8 = 96\n",
            "12 x 9 = 108\n",
            "12 x 10 = 120\n",
            "12 x 11 = 132\n",
            "12 x 12 = 144\n"
          ]
        }
      ]
    },
    {
      "cell_type": "markdown",
      "metadata": {
        "id": "8U4RRycXiylp"
      },
      "source": []
    },
    {
      "cell_type": "markdown",
      "metadata": {
        "id": "Q-1bsZCriylp"
      },
      "source": [
        "# Calculating Average of Numbers Using Functions"
      ]
    },
    {
      "cell_type": "code",
      "execution_count": 70,
      "metadata": {
        "colab": {
          "base_uri": "https://localhost:8080/"
        },
        "id": "A3KyLZZRiylq",
        "outputId": "693e117b-ed65-478c-e5c4-de1792dd00ee"
      },
      "outputs": [
        {
          "output_type": "stream",
          "name": "stdout",
          "text": [
            "3.0\n"
          ]
        }
      ],
      "source": [
        "def Avg(num):\n",
        "    sum=0\n",
        "    for i in num:\n",
        "        sum+=i\n",
        "    return sum/len(num)\n",
        "num = [1, 2, 3, 4, 5]\n",
        "print(Avg(num))"
      ]
    },
    {
      "cell_type": "code",
      "execution_count": 71,
      "metadata": {
        "colab": {
          "base_uri": "https://localhost:8080/"
        },
        "id": "kE2VCsapiylr",
        "outputId": "4b2d7705-79c8-42db-ac85-1396ab5999b2"
      },
      "outputs": [
        {
          "output_type": "stream",
          "name": "stdout",
          "text": [
            "Banana\n"
          ]
        }
      ],
      "source": [
        "def longest(l):\n",
        "    length=0\n",
        "    s=\"\"\n",
        "    for i in l:\n",
        "        if(len(i)>length):\n",
        "            length=len(i)\n",
        "            s=i\n",
        "    return s\n",
        "fruits = [\"Apple\", \"Banana\", \"Orange\", \"Kiwi\", \"Mango\"]\n",
        "print(longest(fruits))\n"
      ]
    },
    {
      "cell_type": "code",
      "execution_count": 72,
      "metadata": {
        "colab": {
          "base_uri": "https://localhost:8080/"
        },
        "id": "HBCbQy2fiyls",
        "outputId": "62b831a9-456b-47ce-affd-04b60855a345"
      },
      "outputs": [
        {
          "output_type": "stream",
          "name": "stdout",
          "text": [
            "True\n",
            "False\n"
          ]
        }
      ],
      "source": [
        "def prime(num):\n",
        "    if num <= 1:\n",
        "        return False\n",
        "    for i in range(2, num):\n",
        "        if num % i == 0:\n",
        "            return False\n",
        "    return True\n",
        "print (prime(7))\n",
        "print(prime(8))"
      ]
    },
    {
      "cell_type": "markdown",
      "metadata": {
        "id": "C1WzMeWYiyls"
      },
      "source": []
    },
    {
      "cell_type": "markdown",
      "metadata": {
        "id": "kTI4wyCwiylt"
      },
      "source": [
        "# Converting Temperature Units"
      ]
    },
    {
      "cell_type": "code",
      "execution_count": 73,
      "metadata": {
        "colab": {
          "base_uri": "https://localhost:8080/"
        },
        "id": "IB5yb0_niylt",
        "outputId": "7bd7b382-6fdb-4eb2-d2a0-78dd776a0f17"
      },
      "outputs": [
        {
          "output_type": "stream",
          "name": "stdout",
          "text": [
            "77.0\n",
            "10.0\n"
          ]
        }
      ],
      "source": [
        "def c_to_f(cel):\n",
        "    return (cel* 9/5) + 32\n",
        "\n",
        "def f_to_c(fahr):\n",
        "    return (fahr - 32) * 5/9\n",
        "print (c_to_f(25))\n",
        "print(f_to_c(50))"
      ]
    },
    {
      "cell_type": "markdown",
      "metadata": {
        "id": "VXJx_d4Miylu"
      },
      "source": []
    },
    {
      "cell_type": "markdown",
      "metadata": {
        "id": "H8kPbSI-iylv"
      },
      "source": [
        "# Generating a List of Squares Using List Comprehension and Functions"
      ]
    },
    {
      "cell_type": "code",
      "source": [
        "def generate_squares(start, end):\n",
        "    return [i**2 for i in range(start, end + 1)]\n",
        "l = generate_squares(1, 7)\n",
        "print(l)"
      ],
      "metadata": {
        "colab": {
          "base_uri": "https://localhost:8080/"
        },
        "id": "rYbERypYz8Fm",
        "outputId": "4cc08938-713a-445b-d380-359b69481153"
      },
      "execution_count": 74,
      "outputs": [
        {
          "output_type": "stream",
          "name": "stdout",
          "text": [
            "[1, 4, 9, 16, 25, 36, 49]\n"
          ]
        }
      ]
    },
    {
      "cell_type": "markdown",
      "metadata": {
        "id": "6FompBTkiylv"
      },
      "source": []
    },
    {
      "cell_type": "markdown",
      "metadata": {
        "id": "CUNglR50iylw"
      },
      "source": [
        "# Converting a List of Strings to Uppercase"
      ]
    },
    {
      "cell_type": "code",
      "source": [
        "def upper(string):\n",
        "    s = \"\"\n",
        "    for char in string:\n",
        "        if char.islower():\n",
        "            s += char.upper()\n",
        "        else:\n",
        "            s += char.lower()\n",
        "    return s\n",
        "\n",
        "string = \"hello\"\n",
        "print(upper(string))"
      ],
      "metadata": {
        "colab": {
          "base_uri": "https://localhost:8080/"
        },
        "id": "mWo5R3-80MnE",
        "outputId": "90ab0380-2615-4bd2-ee98-ab4be4c138fc"
      },
      "execution_count": 75,
      "outputs": [
        {
          "output_type": "stream",
          "name": "stdout",
          "text": [
            "HELLO\n"
          ]
        }
      ]
    },
    {
      "cell_type": "markdown",
      "metadata": {
        "id": "bnJ1lqGNiylw"
      },
      "source": [
        "# Calculating the Total Price Including Tax\n"
      ]
    },
    {
      "cell_type": "code",
      "source": [
        "def total_price(price, tax_rate):\n",
        "    total = price + (price * tax_rate)\n",
        "    return total\n",
        "\n",
        "price = 100\n",
        "tax = 0.05\n",
        "cost = total_price(price, tax)\n",
        "print(f\"Total price: {cost}\")"
      ],
      "metadata": {
        "colab": {
          "base_uri": "https://localhost:8080/"
        },
        "id": "KtOHoxMT1Ty7",
        "outputId": "092fdcc8-7a00-48bf-c2c0-ae5224432278"
      },
      "execution_count": 76,
      "outputs": [
        {
          "output_type": "stream",
          "name": "stdout",
          "text": [
            "Total price: 105.0\n"
          ]
        }
      ]
    },
    {
      "cell_type": "markdown",
      "metadata": {
        "id": "VHczufYtiylx"
      },
      "source": []
    },
    {
      "cell_type": "markdown",
      "metadata": {
        "id": "QklMjo9Uiylx"
      },
      "source": [
        "# Finding the Minimum and Maximum Values in a List"
      ]
    },
    {
      "cell_type": "code",
      "source": [
        "def find_maximum_minimum(numbers):\n",
        "    mx = numbers[0]\n",
        "    mn= numbers[0]\n",
        "    for i in numbers:\n",
        "        if i < mn:\n",
        "            mn = i\n",
        "        if i > mx:\n",
        "            mx = i\n",
        "    return mx ,mn\n",
        "numbers = [7, 5, 2, 10, 1]\n",
        "print(find_maximum_minimum(numbers))\n"
      ],
      "metadata": {
        "colab": {
          "base_uri": "https://localhost:8080/"
        },
        "id": "EcIrsmA80coq",
        "outputId": "d80fe37a-2859-47b8-8303-88b0144cd62b"
      },
      "execution_count": 77,
      "outputs": [
        {
          "output_type": "stream",
          "name": "stdout",
          "text": [
            "(10, 1)\n"
          ]
        }
      ]
    },
    {
      "cell_type": "markdown",
      "metadata": {
        "id": "UuxSnSqaiyly"
      },
      "source": []
    },
    {
      "cell_type": "markdown",
      "metadata": {
        "id": "hByLqUXBiyly"
      },
      "source": [
        "# Checking if a String is a Valid Email Address"
      ]
    },
    {
      "cell_type": "code",
      "source": [
        "def is_valid_email(email):\n",
        "    if \"@\" not in email or \".\" not in email:\n",
        "        return False\n",
        "    idx1= email.index(\"@\")\n",
        "    idx2= email.rfind(\".\")\n",
        "\n",
        "    if idx1 > idx2:\n",
        "        return False\n",
        "    return True\n",
        "\n",
        "email1 = \"afaf.rafat77@gmail.com\"\n",
        "email2 = \"afaf.rafat77\"\n",
        "\n",
        "print(is_valid_email(email1))\n",
        "print(is_valid_email(email2))"
      ],
      "metadata": {
        "colab": {
          "base_uri": "https://localhost:8080/"
        },
        "id": "kI71tmtp1jCL",
        "outputId": "33a8e67c-56a0-42b1-e343-3aa655d09eb3"
      },
      "execution_count": 78,
      "outputs": [
        {
          "output_type": "stream",
          "name": "stdout",
          "text": [
            "True\n",
            "False\n"
          ]
        }
      ]
    },
    {
      "cell_type": "markdown",
      "metadata": {
        "id": "O5_4PJhdiyly"
      },
      "source": []
    },
    {
      "cell_type": "markdown",
      "metadata": {
        "id": "BL7agBHuiylz"
      },
      "source": [
        "# Counting the Frequency of Each Character in a String"
      ]
    },
    {
      "cell_type": "code",
      "source": [
        "def count_frequency(text):\n",
        "    char_freq = {}\n",
        "    for char in text:\n",
        "        if char in char_freq:\n",
        "            char_freq[char] += 1\n",
        "        else:\n",
        "            char_freq[char] = 1\n",
        "\n",
        "    return char_freq\n",
        "\n",
        "s= \"Afaf Rafat Ibrahim\"\n",
        "frequency = count_frequency(s)\n",
        "print(frequency)\n"
      ],
      "metadata": {
        "colab": {
          "base_uri": "https://localhost:8080/"
        },
        "id": "dXX3T2Ww2fXm",
        "outputId": "1779a100-eee8-4f05-a6d4-419f442c1518"
      },
      "execution_count": 79,
      "outputs": [
        {
          "output_type": "stream",
          "name": "stdout",
          "text": [
            "{'A': 1, 'f': 3, 'a': 4, ' ': 2, 'R': 1, 't': 1, 'I': 1, 'b': 1, 'r': 1, 'h': 1, 'i': 1, 'm': 1}\n"
          ]
        }
      ]
    },
    {
      "cell_type": "markdown",
      "metadata": {
        "id": "xxFLDNcRiylz"
      },
      "source": []
    }
  ],
  "metadata": {
    "kernelspec": {
      "display_name": "Python 3",
      "language": "python",
      "name": "python3"
    },
    "language_info": {
      "codemirror_mode": {
        "name": "ipython",
        "version": 3
      },
      "file_extension": ".py",
      "mimetype": "text/x-python",
      "name": "python",
      "nbconvert_exporter": "python",
      "pygments_lexer": "ipython3",
      "version": "3.10.5"
    },
    "colab": {
      "provenance": [],
      "include_colab_link": true
    }
  },
  "nbformat": 4,
  "nbformat_minor": 0
}